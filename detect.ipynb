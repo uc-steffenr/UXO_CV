{
 "cells": [
  {
   "cell_type": "code",
   "execution_count": 3,
   "metadata": {},
   "outputs": [],
   "source": [
    "import numpy as np\n",
    "import matplotlib.pyplot as plt\n",
    "\n",
    "import torch\n",
    "import pandas as pd\n",
    "import cv2 as cv"
   ]
  },
  {
   "cell_type": "code",
   "execution_count": 7,
   "metadata": {},
   "outputs": [],
   "source": [
    "YOLO_MODEL = 'datasets/big-dataset/run1/train_results/weights/best.pt'\n",
    "FRCNN_MODEL = 'resources/faster_rcnn_1_50_10067.pth'\n",
    "test_im = 'datasets/big-dataset/test/images/full_database_2024_1_15_4957_utin_jpg.rf.ce885bc0c03ed62f2208551aefca1d9c.jpg'"
   ]
  },
  {
   "cell_type": "code",
   "execution_count": 6,
   "metadata": {},
   "outputs": [
    {
     "name": "stderr",
     "output_type": "stream",
     "text": [
      "Using cache found in /home/steffenr/.cache/torch/hub/ultralytics_yolov5_master\n",
      "YOLOv5 🚀 2024-1-18 Python-3.11.5 torch-2.1.2+cu121 CPU\n",
      "\n",
      "Fusing layers... \n",
      "Model summary: 157 layers, 1761871 parameters, 0 gradients, 4.1 GFLOPs\n",
      "Adding AutoShape... \n"
     ]
    }
   ],
   "source": [
    "model = torch.hub.load('ultralytics/yolov5', 'custom', YOLO_MODEL)\n",
    "model.cpu()\n",
    "\n",
    "results = model(test_im)"
   ]
  },
  {
   "cell_type": "code",
   "execution_count": 16,
   "metadata": {},
   "outputs": [
    {
     "name": "stdout",
     "output_type": "stream",
     "text": [
      "Traceback (most recent call last):\n",
      "  File \"demo.py\", line 25, in <module>\n",
      "    from lib.model.roi_layers import nms\n",
      "  File \"/mnt/c/Users/Nate Steffen/OneDrive - University of Cincinnati/UAV Design/UXO 💣/faster-rcnn.pytorch/lib/model/roi_layers/__init__.py\", line 3, in <module>\n",
      "    from .nms import nms\n",
      "  File \"/mnt/c/Users/Nate Steffen/OneDrive - University of Cincinnati/UAV Design/UXO 💣/faster-rcnn.pytorch/lib/model/roi_layers/nms.py\", line 3, in <module>\n",
      "    from lib.model import _C\n",
      "ImportError: cannot import name '_C'\n",
      "\n",
      "ERROR conda.cli.main_run:execute(47): `conda run python demo.py --checksession 1 --checkepoch 50 --checkpoint 10067 --load_dir models` failed. (See above for error)\n"
     ]
    }
   ],
   "source": [
    "!cd faster-rcnn.pytorch; conda run -n frcnn python demo.py --checksession 1 --checkepoch 50 --checkpoint 10067 --load_dir models"
   ]
  }
 ],
 "metadata": {
  "kernelspec": {
   "display_name": "cv",
   "language": "python",
   "name": "python3"
  },
  "language_info": {
   "codemirror_mode": {
    "name": "ipython",
    "version": 3
   },
   "file_extension": ".py",
   "mimetype": "text/x-python",
   "name": "python",
   "nbconvert_exporter": "python",
   "pygments_lexer": "ipython3",
   "version": "3.11.5"
  }
 },
 "nbformat": 4,
 "nbformat_minor": 2
}
