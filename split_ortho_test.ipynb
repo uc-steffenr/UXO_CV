{
 "cells": [
  {
   "cell_type": "code",
   "execution_count": 1,
   "metadata": {},
   "outputs": [],
   "source": [
    "import numpy as np \n",
    "import matplotlib.pyplot as plt\n",
    "\n",
    "import cv2 as cv\n",
    "\n",
    "import os\n",
    "from pathlib import Path"
   ]
  },
  {
   "cell_type": "code",
   "execution_count": 2,
   "metadata": {},
   "outputs": [],
   "source": [
    "ortho_control_paths = ['/home/steffenr/uxo/raw_data/original_orthos/flight_15_transparent_mosaic_group1.tif',\n",
    "                       '/home/steffenr/uxo/raw_data/original_orthos/flight_14_transparent_mosaic_group1.tif']"
   ]
  },
  {
   "cell_type": "code",
   "execution_count": 3,
   "metadata": {},
   "outputs": [],
   "source": [
    "def start_points(size, split_size, overlap=0):\n",
    "    points = [0]\n",
    "    stride = int(split_size * (1-overlap))\n",
    "    counter = 1\n",
    "    while True:\n",
    "        pt = stride * counter\n",
    "        if pt + split_size >= size:\n",
    "            if split_size == size:\n",
    "                break\n",
    "            points.append(size - split_size)\n",
    "            break\n",
    "        else:\n",
    "            points.append(pt)\n",
    "        counter += 1\n",
    "    return points"
   ]
  },
  {
   "cell_type": "code",
   "execution_count": 4,
   "metadata": {},
   "outputs": [],
   "source": [
    "def split_images(img_path, split_w, split_h, overlap=0., save_dir=None, make_empty_annotations=False):\n",
    "    if save_dir is None:\n",
    "        save_dir = '/'.join(img_path.split('/')[:-1]+['split'])\n",
    "    \n",
    "    if not os.path.exists(save_dir):\n",
    "        os.makedirs(save_dir)\n",
    "    \n",
    "    if make_empty_annotations and not os.path.exists(os.path.join(save_dir, 'images')):\n",
    "        os.makedirs(os.path.join(save_dir, 'images'))\n",
    "    \n",
    "    if make_empty_annotations and not os.path.exists(os.path.join(save_dir, 'labels')):\n",
    "        os.makedirs(os.path.join(save_dir, 'labels'))            \n",
    "    \n",
    "    img = cv.imread(img_path)\n",
    "    img_h, img_w, _ = img.shape\n",
    "    \n",
    "    X_pts = start_points(img_w, split_w, overlap)\n",
    "    Y_pts = start_points(img_h, split_h, overlap)\n",
    "    \n",
    "    count = 0\n",
    "    name = img_path.split('/')[-1][:-4]+'_split'\n",
    "    format = 'jpg'\n",
    "    \n",
    "    for i in Y_pts:\n",
    "        for j in X_pts:\n",
    "            split = img[i:i+split_h, j:j+split_w]\n",
    "            if not make_empty_annotations:\n",
    "                cv.imwrite(f'{save_dir}/{name}_{count}.{format}', split)\n",
    "            else:\n",
    "                cv.imwrite(f'{save_dir}/images/{name}_{count}.{format}', split)\n",
    "                Path(f'{save_dir}/labels/{name}_{count}.txt').touch()\n",
    "            count += 1\n",
    "    "
   ]
  },
  {
   "cell_type": "code",
   "execution_count": 5,
   "metadata": {},
   "outputs": [],
   "source": [
    "size = 640\n",
    "overlap = 0.2\n",
    "\n",
    "for img_path in ortho_control_paths:\n",
    "    split_images(img_path, size, size, overlap, make_empty_annotations=True)"
   ]
  },
  {
   "cell_type": "code",
   "execution_count": 8,
   "metadata": {},
   "outputs": [],
   "source": [
    "# organize annotations correspond with images\n",
    "\n",
    "split_dir = '/home/steffenr/uxo/raw_data/original_orthos/split'\n",
    "img_list = os.listdir(split_dir+'/images')\n",
    "label_list = os.listdir(split_dir+'/labels')\n",
    "\n",
    "delete_list = [label for label in label_list if label[:-4]+'.jpg' not in img_list]\n",
    "\n",
    "for label in delete_list:\n",
    "    os.remove(os.path.join(split_dir, 'labels', label))"
   ]
  }
 ],
 "metadata": {
  "kernelspec": {
   "display_name": "cv",
   "language": "python",
   "name": "python3"
  },
  "language_info": {
   "codemirror_mode": {
    "name": "ipython",
    "version": 3
   },
   "file_extension": ".py",
   "mimetype": "text/x-python",
   "name": "python",
   "nbconvert_exporter": "python",
   "pygments_lexer": "ipython3",
   "version": "3.11.5"
  }
 },
 "nbformat": 4,
 "nbformat_minor": 2
}
